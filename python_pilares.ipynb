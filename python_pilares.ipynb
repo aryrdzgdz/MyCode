{
  "nbformat": 4,
  "nbformat_minor": 0,
  "metadata": {
    "colab": {
      "provenance": [],
      "include_colab_link": true
    },
    "kernelspec": {
      "name": "python3",
      "display_name": "Python 3"
    },
    "language_info": {
      "name": "python"
    }
  },
  "cells": [
    {
      "cell_type": "markdown",
      "metadata": {
        "id": "view-in-github",
        "colab_type": "text"
      },
      "source": [
        "<a href=\"https://colab.research.google.com/github/aryrdzgdz/MyCode/blob/master/python_pilares.ipynb\" target=\"_parent\"><img src=\"https://colab.research.google.com/assets/colab-badge.svg\" alt=\"Open In Colab\"/></a>"
      ]
    },
    {
      "cell_type": "code",
      "source": [
        "from google.colab import drive\n",
        "drive.mount('/content/drive/')"
      ],
      "metadata": {
        "id": "AUYHAKyMB_zi"
      },
      "execution_count": null,
      "outputs": []
    },
    {
      "cell_type": "code",
      "source": [
        "import matplotlib.pyplot as plt\n",
        "import astropy.io as fits"
      ],
      "metadata": {
        "id": "K8vjjiEQeoeM"
      },
      "execution_count": null,
      "outputs": []
    },
    {
      "cell_type": "markdown",
      "source": [
        "**VARIABLES**\n",
        "\n",
        "Las variables son los \"almacenes de información\" que definimos\n",
        "en nuestros códigos y programas.\n",
        "\n",
        "En PYTHON podemos usar cualquier nombre (cualquier cadena de caracteres) para nombrar a nuestras variables. Pero es muy importante poner atención en que PYTHON reconoce mayúsculas y minúsculas.\n",
        "\n",
        "\n",
        "***Operador de asignación para las VARIABLES***\n",
        "\n",
        "Para asignar un valor usamos el signo = con esto se le asigna un valor, numérico o de caracteres a una variable.\n"
      ],
      "metadata": {
        "id": "z4SBmwYpPnOs"
      }
    },
    {
      "cell_type": "code",
      "source": [
        "# Ejemplo de VARIABLES:\n",
        "#\n",
        "name = \"Harry Potter\"\n",
        "nAme = \"Hermione Granger\"\n",
        "print(name)\n",
        "print(nAme)\n"
      ],
      "metadata": {
        "id": "Hd7AiotDN-yz"
      },
      "execution_count": null,
      "outputs": []
    },
    {
      "cell_type": "code",
      "source": [
        "nAme = \"Lord Voldemort\"\n",
        "print(nAme)"
      ],
      "metadata": {
        "id": "lF0L-RqiROCn"
      },
      "execution_count": null,
      "outputs": []
    },
    {
      "cell_type": "code",
      "source": [
        "#### Qué hubiera pasado si ponemos\n",
        "\n",
        "print(\"name\")\n",
        "#estamos pidiendo que imprima una lista de caracteres"
      ],
      "metadata": {
        "id": "RDn5fKlaRs_8"
      },
      "execution_count": null,
      "outputs": []
    },
    {
      "cell_type": "markdown",
      "source": [
        "**TIPO DE DATOS:**\n",
        "\n",
        "Los tipos de datos tienen naturalezas distintas:\n",
        "podemos poner numeros enteros, numeros con\n",
        "\n",
        "1.   números enteros (-5, -1, 0, 7)\n",
        "2.   numeros de punto flotante (-923.03, 45.21)\n",
        "3.   cadenas de caracteres (\"Lord Voldemor\")\n",
        "4.   booleanos (es decir verdadero o Falso"
      ],
      "metadata": {
        "id": "-sFjLHfESnyv"
      }
    },
    {
      "cell_type": "code",
      "source": [
        "# Ejemplo operación entre variables:\n",
        "precio = 432.45 #pesos\n",
        "cantidad= 3\n",
        "\n",
        "precio_total= precio* cantidad\n",
        "print(precio_total)"
      ],
      "metadata": {
        "id": "O1oYSCuhTbgY"
      },
      "execution_count": null,
      "outputs": []
    },
    {
      "cell_type": "markdown",
      "source": [
        "**OPERADORES ARITMÉTICOS:**\n",
        "\n",
        "*   Suma: +\n",
        "*   Resta: -\n",
        "*   Multiplicación: *\n",
        "*   División: /\n",
        "*   División entera: // (regresa solo el entero que sale de la división\n",
        "*   Módulo: % (el residuo de una división\n",
        "*   Exponenciación: **\n",
        "\n"
      ],
      "metadata": {
        "id": "1KMVigztT2fx"
      }
    },
    {
      "cell_type": "code",
      "source": [
        "# Ejemplo\n",
        "var1=45.6\n",
        "var2=7.4\n",
        "\n",
        "div=var1/var2\n",
        "div_entera=var1//var2\n",
        "mod=var1%var2\n",
        "\n",
        "print('División:', div)\n",
        "print('División entera:', div_entera)\n",
        "print('Módulo:',mod)\n",
        "print(var1-div_entera*var2)"
      ],
      "metadata": {
        "id": "1bpD_SazUjYq"
      },
      "execution_count": null,
      "outputs": []
    },
    {
      "cell_type": "markdown",
      "source": [
        "**LISTAS:**\n",
        "\n",
        "Las colecciones o listas son un tipo de dato compuesto que agrupa varios valores. Para las listas se deben emplear los símbolos \"[\" y \"]\" para poder acceder a los componentes individuales de la lista"
      ],
      "metadata": {
        "id": "RbFSJ5PBXQ3p"
      }
    },
    {
      "cell_type": "code",
      "source": [
        "# Una variable puede tener una cadena de valores es decir puede ser un vector,\n",
        "# ya sea que se los demos uno por uno, por ejemplo:\n",
        "#\n",
        "x=[-1.5, 0, 1.4, 1.8, 3.5]"
      ],
      "metadata": {
        "id": "Vk0cbeGuWcNh"
      },
      "execution_count": null,
      "outputs": []
    },
    {
      "cell_type": "code",
      "source": [
        "# la lista puede tener cualquier tipo de datos:\n",
        "#\n",
        "lista = [-4, 5.5, \"Belatrix\", 7, 10.67, 'Magica', 9.56, 20]\n",
        "print(lista)\n",
        "print(\"Primer elemento:\", lista[0])\n",
        "print(\"Segundo elemento:\", lista[1])\n",
        "print(\"Tercer elemento:\", lista[2])"
      ],
      "metadata": {
        "id": "8_olcLWmXKP8"
      },
      "execution_count": null,
      "outputs": []
    },
    {
      "cell_type": "code",
      "source": [
        "# OjO, si por ejemplo tuvieras una lista muy grande y sabes que quieres\n",
        "# un elemento que está en la posición 2 de atrás para adelante puedes pedir\n",
        "#\n",
        "print(\"Penúltimo elemento:\", lista[-2]) # un MENOS antes del valor."
      ],
      "metadata": {
        "id": "X3DgU5CfZPzy"
      },
      "execution_count": null,
      "outputs": []
    },
    {
      "cell_type": "code",
      "source": [
        "# RECORTE de LISTAS\n",
        "#\n",
        "print(lista)\n",
        "#\n",
        "print(\"Recorta lista desde el segundo elemento al cuarto:\", lista[1:4])\n",
        "print(\"Recorta lista desde el tercero elemento al final:\", lista[2:])\n",
        "print(\"Recorta lista desde el principio hasta el elemento 5:\", lista[:6])"
      ],
      "metadata": {
        "id": "0W1OIZmbZXFn"
      },
      "execution_count": null,
      "outputs": []
    },
    {
      "cell_type": "code",
      "source": [
        "# BUSCAR EN LISTA\n",
        "#\n",
        "if \"Harry\" in lista:\n",
        "    print (\"Está en lista\")\n",
        "else:\n",
        "    print (\"No está en la lista\")"
      ],
      "metadata": {
        "id": "nvYf2hyDadWC"
      },
      "execution_count": null,
      "outputs": []
    },
    {
      "cell_type": "code",
      "source": [
        "# SUSTITUIR\n",
        "# Para sustituir un elemento de nuestra lista podemos hacerlo\n",
        "# manualmente\n",
        "lista[2]=\"Harry\"\n",
        "# BUSCAR EN LISTA\n",
        "#\n",
        "if \"Harry\" in lista:\n",
        "    print (\"Está en lista\")\n",
        "else:\n",
        "    print (\"No está en la lista\")\n"
      ],
      "metadata": {
        "id": "M00TlETZa_O0"
      },
      "execution_count": null,
      "outputs": []
    },
    {
      "cell_type": "code",
      "source": [
        "# AÑADIR\n",
        "# Al final de la lista\n",
        "lista.append(\"Draco\")\n",
        "print(lista)"
      ],
      "metadata": {
        "id": "J0RSp-nZak8s"
      },
      "execution_count": null,
      "outputs": []
    },
    {
      "cell_type": "code",
      "source": [
        "# INSERTAR\n",
        "# Elementos a la lista (en el elemento que agregas)\n",
        "# POR EJEMPLO EN LA CASILLA 4\n",
        "lista.insert(4,\"Hermione\")\n",
        "print(lista)"
      ],
      "metadata": {
        "id": "2wgHqyMR9mTs"
      },
      "execution_count": null,
      "outputs": []
    },
    {
      "cell_type": "code",
      "source": [
        "# JUNTAR\n",
        "# varias listas\n",
        "lista2=[\"Estrella\",15]\n",
        "lista_final=lista+lista2\n",
        "print(lista_final)"
      ],
      "metadata": {
        "id": "PLyHQ-hg-jwv"
      },
      "execution_count": null,
      "outputs": []
    },
    {
      "cell_type": "code",
      "source": [
        "# ELIMINAR\n",
        "#\n",
        "# Elemento Concreto de una lista\n",
        "#\n",
        "lista_final.remove(\"Draco\")\n",
        "print(lista_final)"
      ],
      "metadata": {
        "id": "bG6JbgxU_Wch"
      },
      "execution_count": null,
      "outputs": []
    },
    {
      "cell_type": "code",
      "source": [
        "# ELIMINAR\n",
        "#\n",
        "# Elemento en una posición de una lista\n",
        "#\n",
        "lista_final.pop(-3)\n",
        "print(lista_final)\n"
      ],
      "metadata": {
        "id": "-BLMOvHMBqJU"
      },
      "execution_count": null,
      "outputs": []
    },
    {
      "cell_type": "code",
      "source": [
        "# VACIAR\n",
        "#\n",
        "# una lista completa\n",
        "#\n",
        "lista_final.clear()\n",
        "print(lista_final)"
      ],
      "metadata": {
        "id": "w7oIwFcIB6G6"
      },
      "execution_count": null,
      "outputs": []
    },
    {
      "cell_type": "code",
      "source": [
        "# LISTAS DE LISTAS\n",
        "L1=[8, 2, 7, 13, 8, 8, 6, 3]\n",
        "L2=[9, 10, 17, 21, 29, 20, 12, 5]\n",
        "L3=[11, 20, 30, 35, 31, 20, 10, 5]\n",
        "L4=[14, 19, 24, 33, 21, 17, 14, 8]\n",
        "L5=[11, 20, 30, 45, 31, 20, 10, 5]\n",
        "L6=[8, 17, 43, 58, 34, 20, 8, 3]\n",
        "L7=[7, 11, 33, 38, 28, 19, 7, 2]\n",
        "L8=[1, 6, 14, 23, 11, 7, 4, 1]\n",
        "lista_de_listas=[L1, L2, L3, L4, L5, L6, L7, L8]\n",
        "print(lista_de_listas)\n",
        "#"
      ],
      "metadata": {
        "id": "9FzmlhpadZcj"
      },
      "execution_count": null,
      "outputs": []
    },
    {
      "cell_type": "code",
      "source": [
        "# Esto se parece una imagen, no me creen?\n",
        "#\n",
        "plt.imshow(lista_de_listas)\n",
        "#\n",
        "# extraer una linea (por ejemplo la lista del primer renglon)\n"
      ],
      "metadata": {
        "id": "h76EMpvLfMnu"
      },
      "execution_count": null,
      "outputs": []
    },
    {
      "cell_type": "code",
      "source": [
        "print(lista_de_listas)"
      ],
      "metadata": {
        "id": "gny3ZIS7EnZF"
      },
      "execution_count": null,
      "outputs": []
    },
    {
      "cell_type": "markdown",
      "source": [
        "**Diccionarios:**\n",
        "\n",
        "Son estructuras de datos similares a las listas pero se orden por datos de identificaciones mediante una clave. No puede haber elementos con la misma clave."
      ],
      "metadata": {
        "id": "kxFzEDBlXT8T"
      }
    },
    {
      "cell_type": "code",
      "source": [
        "estrella = {\n",
        "    \"nombre\": \"Aldebaran\",\n",
        "    \"magnitud\" : +0.85,\n",
        "    \"distancia\" : 65.23\n",
        "\n",
        "}\n",
        "print(estrella)\n",
        "#\n",
        "print(\"Magnitud de\", estrella['nombre'], \"es:\",  estrella['magnitud'])\n",
        "#print(f\"Magnitud de {estrella['nombre']} es: {estrella['magnitud']}\")\n",
        "#\n",
        "#\n",
        "print(f\"Claves de {estrella.keys()}\")\n",
        "print(f\"Claves de {estrella.values()}\")\n",
        "\n",
        "# los Archivos FIT para los datos."
      ],
      "metadata": {
        "id": "I3EZ0nVfXpFd"
      },
      "execution_count": null,
      "outputs": []
    },
    {
      "cell_type": "code",
      "source": [
        "# AGREGAR\n",
        "# una clave\n",
        "estrella['constelacion:'] = \"Canis Mayor\"\n",
        "print(estrella)\n",
        "type(estrella)"
      ],
      "metadata": {
        "id": "yxD9dMnfaxYq"
      },
      "execution_count": null,
      "outputs": []
    },
    {
      "cell_type": "code",
      "source": [
        "# BUSCAR\n",
        "# si existe una clave\n",
        "if \"color\" in estrella:\n",
        "    print (\"Está en diccionario\")\n",
        "else:\n",
        "    print (\"No está en la diccionario\")"
      ],
      "metadata": {
        "id": "-taEQZpAbWzu"
      },
      "execution_count": null,
      "outputs": []
    },
    {
      "cell_type": "code",
      "source": [
        "# Diccionario con diccionarios\n",
        "#\n",
        "planetas = {\n",
        "    'Mercurio': {\n",
        "     'distancia': 0.39,\n",
        "     'diametro':0.39,\n",
        "     'rocoso:': True\n",
        "    },\n",
        "    'Venus': {\n",
        "     'distancia': 0.72,\n",
        "     'diametro':0.95,\n",
        "     'rocoso:': True\n",
        "    },\n",
        "     'Tierra': {\n",
        "     'distancia': 1.0,\n",
        "     'diametro': 1.0,\n",
        "     'rocoso:': True\n",
        "    },\n",
        "     'Marte': {\n",
        "     'distancia': 1.52,\n",
        "     'diametro': 0.53,\n",
        "     'rocoso:': True\n",
        "    },\n",
        "     'Jupiter': {\n",
        "     'distancia': 5.2,\n",
        "     'diametro': 11.2,\n",
        "     'rocoso:': False\n",
        "    },\n",
        "     'Saturno': {\n",
        "     'distancia': 9.54,\n",
        "     'diametro': 9.41,\n",
        "     'rocoso:': False\n",
        "    },\n",
        "     'Urano': {\n",
        "     'distancia': 19.22,\n",
        "     'diametro':3.98,\n",
        "     'rocoso:': False\n",
        "    },\n",
        "     'Neptuno': {\n",
        "     'distancia': 30.06,\n",
        "     'diametro': 3.81,\n",
        "     'rocoso:': False\n",
        "    },\n",
        "     'Pluton': {\n",
        "     'distancia': 39.5,\n",
        "     'diametro':0.22,\n",
        "     'rocoso:': True\n",
        "    }\n",
        "}\n",
        "#\n",
        "print(planetas['Tierra']['diametro'])"
      ],
      "metadata": {
        "id": "JqBCvh7ThR2H"
      },
      "execution_count": null,
      "outputs": []
    },
    {
      "cell_type": "code",
      "source": [
        "planetas.keys()\n"
      ],
      "metadata": {
        "id": "0rCL1LsT69iS"
      },
      "execution_count": null,
      "outputs": []
    },
    {
      "cell_type": "code",
      "source": [
        "# Borremos Pluton\n",
        "planetas.pop('Pluton')\n",
        "planetas.keys()"
      ],
      "metadata": {
        "id": "MWEMUc-N7Fvh"
      },
      "execution_count": null,
      "outputs": []
    },
    {
      "cell_type": "markdown",
      "source": [
        "**BUCLES**\n",
        "\n",
        "Son instrucciones que repiten una acción un número de veces que decidamos (un LOOP)"
      ],
      "metadata": {
        "id": "GOOwrKSD-s_U"
      }
    },
    {
      "cell_type": "code",
      "source": [
        "# LOOP\n",
        "for i in range(1,20):\n",
        "  print(i)"
      ],
      "metadata": {
        "id": "oASjcsk0YEYb"
      },
      "execution_count": null,
      "outputs": []
    },
    {
      "cell_type": "code",
      "source": [
        "# Ejemplo: Encontrar el Planeta con menor diametro\n",
        "# USANDO BUCLES y DICCiONARIOS\n",
        "\n",
        "diametro=1000000.\n",
        "planetaMasChico= None\n",
        "#\n",
        "for planeta_nombre in planetas:\n",
        "    #print(planetas[i]['nombre'],planetas[i]['diametro'])\n",
        "    if planetas[planeta_nombre]['diametro'] < diametro:\n",
        "      planetaMasChico = planeta_nombre\n",
        "      diametro = planetas[planeta_nombre]['diametro']\n",
        "print(planetaMasChico)"
      ],
      "metadata": {
        "id": "cDLph0V2cT8S"
      },
      "execution_count": null,
      "outputs": []
    },
    {
      "cell_type": "markdown",
      "source": [
        "**IMAGENES ASTRONOMICAS**\n",
        "\n",
        "Como procesar imágenes astronómicas"
      ],
      "metadata": {
        "id": "UWbyRjel-6SY"
      }
    },
    {
      "cell_type": "code",
      "source": [
        "from astropy.io import fits\n",
        "import matplotlib.pyplot as plt\n",
        "import numpy as np\n",
        "\n",
        "def leer_fits(ruta_archivo):\n",
        "    \"\"\"\n",
        "    Lee un archivo FITS, muestra información básica, los encabezados y,\n",
        "    si es una imagen 2D, la visualiza. Además, retorna los datos extraídos\n",
        "    y la imagen principal (si existe).\n",
        "\n",
        "    Args:\n",
        "        ruta_archivo (str): La ruta completa al archivo FITS.\n",
        "\n",
        "    Returns:\n",
        "        tuple: Una tupla que contiene:\n",
        "               - list: Una lista de arrays NumPy con los datos de cada extensión.\n",
        "               - numpy.ndarray or None: El array de datos de la primera imagen 2D encontrada, o None si no hay.\n",
        "    \"\"\"\n",
        "\n",
        "    datos_extraidos = []\n",
        "    imagen_principal = None\n",
        "\n",
        "    try:\n",
        "        with fits.open(ruta_archivo) as hdul:\n",
        "            print(f\"--- Información del archivo FITS: {ruta_archivo} ---\")\n",
        "            hdul.info()\n",
        "\n",
        "            for i, hdu in enumerate(hdul):\n",
        "                print(f\"\\n--- Encabezado de la Extensión {i} ---\")\n",
        "                print(repr(hdu.header))\n",
        "\n",
        "                if hdu.data is not None:\n",
        "                    print(f\"Dimensiones de los datos en la Extensión {i}: {hdu.data.shape}\")\n",
        "                    print(f\"Tipo de datos en la Extensión {i}: {hdu.data.dtype}\")\n",
        "\n",
        "                    # Guardar todos los datos en una lista\n",
        "                    datos_extraidos.append(hdu.data)\n",
        "                    print(f\"Datos de la Extensión {i} guardados temporalmente.\")\n",
        "\n",
        "                    # Si es la primera HDU con datos 2D, la consideramos la imagen principal\n",
        "                    if imagen_principal is None and hdu.data.ndim == 2:\n",
        "                        imagen_principal = hdu.data\n",
        "                        print(f\"La Extensión {i} ha sido identificada como la imagen principal.\")\n",
        "\n",
        "                    # Si es una imagen 2D, la visualizamos\n",
        "                    if hdu.data.ndim == 2:\n",
        "                        print(f\"Visualizando imagen de la Extensión {i}...\")\n",
        "                        plt.figure(figsize=(8, 8))\n",
        "                        plt.imshow(hdu.data, cmap='gray', origin='lower',\n",
        "                                   vmin=np.percentile(hdu.data, 1), vmax=np.percentile(hdu.data, 99))\n",
        "                        plt.colorbar(label='Intensidad')\n",
        "                        plt.title(f'Imagen FITS - Extensión {i} ({ruta_archivo.split(\"/\")[-1]})')\n",
        "                        plt.xlabel('Píxeles en X')\n",
        "                        plt.ylabel('Píxeles en Y')\n",
        "                        plt.show()\n",
        "                    elif hdu.data.ndim > 2:\n",
        "                        print(f\"Los datos de la Extensión {i} son multi-dimensionales ({hdu.data.ndim}D).\")\n",
        "                    elif hdu.data.ndim == 1:\n",
        "                        print(f\"Los datos de la Extensión {i} son 1D (ej. espectro o tabla).\")\n",
        "                else:\n",
        "                    print(f\"La Extensión {i} no contiene datos primarios.\")\n",
        "\n",
        "    except FileNotFoundError:\n",
        "        print(f\"Error: El archivo '{ruta_archivo}' no se encontró.\")\n",
        "        return [], None # Retorna listas vacías o None en caso de error\n",
        "    except Exception as e:\n",
        "        print(f\"Ocurrió un error al intentar leer el archivo FITS: {e}\")\n",
        "        return [], None # Retorna listas vacías o None en caso de error\n",
        "\n",
        "    # --- RETORNA LOS DATOS EXTRAÍDOS AL PROGRAMA PRINCIPAL ---\n",
        "    return datos_extraidos, imagen_principal\n",
        "\n"
      ],
      "metadata": {
        "id": "wSF96UAZGurp"
      },
      "execution_count": null,
      "outputs": []
    },
    {
      "cell_type": "code",
      "source": [
        "# DEFINIR LA RUTA\n",
        "# Es mucho más fácil definir una ruta del directorio donde estamos trabajando\n",
        "path='/content/drive/MyDrive/Pilares_Astro_Python/'"
      ],
      "metadata": {
        "id": "h6Unbb29ixlY"
      },
      "execution_count": null,
      "outputs": []
    },
    {
      "cell_type": "code",
      "source": [
        "# LEYENDO LA IMAGEN INFRARROJA (IR)\n",
        "ruta_archivo=path+'m42_40min_ir.fits'\n",
        "ir_data,ir_imagen=leer_fits(ruta_archivo)\n",
        "print(ir_imagen)"
      ],
      "metadata": {
        "id": "uui5F17NVv2A"
      },
      "execution_count": null,
      "outputs": []
    },
    {
      "cell_type": "code",
      "source": [
        "# PRODUCIENDO UNA IMAGEN IR\n",
        "imagen_plot=ir_imagen\n",
        "plt.figure(figsize=(8, 8))\n",
        "plt.imshow(imagen_plot, cmap='Oranges', origin='lower', vmin=np.percentile(imagen_plot, 1), vmax=np.percentile(imagen_plot, 99))\n",
        "plt.colorbar(label='Intensidad')\n",
        "plt.title(f'Imagen FITS -  Infrarroja')\n",
        "plt.xlabel('Píxeles en X')\n",
        "plt.ylabel('Píxeles en Y')\n",
        "plt.show()"
      ],
      "metadata": {
        "id": "wKu1qUSTS5fM"
      },
      "execution_count": null,
      "outputs": []
    },
    {
      "cell_type": "code",
      "source": [
        "# LEYENDO LA IMAGEN ROJA\n",
        "ruta_archivo=path+'m42_40min_red.fits'\n",
        "red_data,red_imagen=leer_fits(ruta_archivo)"
      ],
      "metadata": {
        "id": "c2dJORSRVwbC"
      },
      "execution_count": null,
      "outputs": []
    },
    {
      "cell_type": "code",
      "source": [
        "# PRODUCIENDO UNA IMAGEN ROJA\n",
        "imagen_plot=red_imagen\n",
        "plt.figure(figsize=(8, 8))\n",
        "plt.imshow(imagen_plot, cmap='Reds', origin='lower', vmin=np.percentile(imagen_plot, 1), vmax=np.percentile(imagen_plot, 99))\n",
        "plt.colorbar(label='Intensidad')\n",
        "plt.title(f'Imagen FITS - Banda Roja')\n",
        "plt.xlabel('Píxeles en X')\n",
        "plt.ylabel('Píxeles en Y')\n",
        "plt.show()"
      ],
      "metadata": {
        "id": "gbn--ry9WcIz"
      },
      "execution_count": null,
      "outputs": []
    },
    {
      "cell_type": "code",
      "source": [
        "# Sobreponiendo filtros\n",
        "plt.figure(figsize=(8, 8))\n",
        "plt.imshow(ir_imagen, cmap='Greens', origin='lower',alpha=1.0, vmin=np.percentile(ir_imagen, 40), vmax=np.percentile(ir_imagen, 99))\n",
        "plt.imshow(red_imagen, cmap='Oranges', origin='lower',alpha=0.45, vmin=np.percentile(red_imagen, 1), vmax=np.percentile(red_imagen, 99))\n",
        "plt.colorbar(label='Intensidad')\n",
        "plt.title(f'Imagen FITS - sumada')\n",
        "plt.xlabel('Píxeles en X')\n",
        "plt.ylabel('Píxeles en Y')\n",
        "plt.show()"
      ],
      "metadata": {
        "id": "KFqKVAtbYkqX"
      },
      "execution_count": null,
      "outputs": []
    },
    {
      "cell_type": "code",
      "source": [
        "# Comparando filtros\n",
        "resta_imagenes=(red_imagen-ir_imagen)\n",
        "imagen_plot=resta_imagenes\n",
        "plt.figure(figsize=(8, 8))\n",
        "plt.imshow(imagen_plot, cmap='jet', origin='lower', vmin=np.percentile(imagen_plot, 1), vmax=np.percentile(imagen_plot, 99))\n",
        "plt.colorbar(label='Intensidad')\n",
        "plt.title(f'Imagen FITS - Restada')\n",
        "plt.xlabel('Píxeles en X')\n",
        "plt.ylabel('Píxeles en Y')\n",
        "plt.show()\n"
      ],
      "metadata": {
        "id": "YVFDLjH7WkXr"
      },
      "execution_count": null,
      "outputs": []
    },
    {
      "cell_type": "code",
      "source": [
        "# Igual pero un JPEG o PNG?\n",
        "from PIL import Image\n",
        "from astropy.io import fits\n",
        "import matplotlib.pyplot as plt\n",
        "import numpy as np\n",
        "\n",
        "def leer_imagen_png(ruta_archivo_png):\n",
        "    \"\"\"\n",
        "    Lee una imagen PNG, la convierte a un array de NumPy y la visualiza.\n",
        "\n",
        "    Args:\n",
        "        ruta_archivo_png (str): La ruta completa al archivo de imagen PNG.\n",
        "    \"\"\"\n",
        "    try:\n",
        "        # --- Usando Pillow para abrir y leer la imagen ---\n",
        "        print(f\"--- Leyendo imagen PNG: {ruta_archivo_png} con Pillow ---\")\n",
        "        img_pillow = Image.open(ruta_archivo_png)\n",
        "        print(f\"Modo de la imagen (ej. 'RGB', 'L' para escala de grises): {img_pillow.mode}\")\n",
        "        print(f\"Dimensiones de la imagen (Ancho x Alto): {img_pillow.size}\")\n",
        "\n",
        "        # Convertir la imagen a un array de NumPy\n",
        "        # 'np.array()' es muy útil para análisis numérico posterior\n",
        "        imagen_numpy = np.array(img_pillow)\n",
        "        print(f\"Dimensiones del array NumPy: {imagen_numpy.shape}\")\n",
        "        print(f\"Tipo de datos del array NumPy: {imagen_numpy.dtype}\")\n",
        "\n",
        "        # Si la imagen es RGB/RGBA, la forma será (alto, ancho, canales)\n",
        "        # Si es en escala de grises, será (alto, ancho)\n",
        "\n",
        "        # --- Visualizar la imagen con Matplotlib ---\n",
        "        print(\"Visualizando la imagen...\")\n",
        "        plt.figure(figsize=(8, 8))\n",
        "\n",
        "        # imshow de matplotlib puede manejar directamente el array de numpy\n",
        "        if img_pillow.mode == 'L' or imagen_numpy.ndim == 2: # Escala de grises\n",
        "            plt.imshow(imagen_numpy, cmap='gray')\n",
        "            plt.title(f'Imagen PNG (Escala de grises) - {ruta_archivo_png.split(\"/\")[-1]}')\n",
        "        else: # Color (RGB, RGBA)\n",
        "            plt.imshow(imagen_numpy)\n",
        "            plt.title(f'Imagen PNG (Color) - {ruta_archivo_png.split(\"/\")[-1]}')\n",
        "\n",
        "        plt.axis('off') # Para no mostrar los ejes\n",
        "        plt.show()\n",
        "\n",
        "        # Puedes retornar el array de NumPy si lo necesitas para un procesamiento posterior\n",
        "        return imagen_numpy\n",
        "\n",
        "    except FileNotFoundError:\n",
        "        print(f\"Error: El archivo '{ruta_archivo_png}' no se encontró.\")\n",
        "        return None\n",
        "    except Exception as e:\n",
        "        print(f\"Ocurrió un error al intentar leer la imagen PNG: {e}\")\n",
        "        return image_numpy\n"
      ],
      "metadata": {
        "id": "qiPWCygwdN7A"
      },
      "execution_count": null,
      "outputs": []
    },
    {
      "cell_type": "code",
      "source": [
        "ruta_del_archivo_png = path+'orion-nebula-xlarge_web-jpg.jpg' # Cambia esto a tu archivo real\n",
        "\n",
        "    # Llama a la función para leer y visualizar la imagen\n",
        "datos_png = leer_imagen_png(ruta_del_archivo_png)\n",
        "\n",
        "if datos_png is not None:\n",
        "    print(\"\\n--- ¡Imagen leída y disponible como array NumPy en el programa principal! ---\")\n",
        "    print(f\"Forma de los datos de la imagen: {datos_png.shape}\")\n",
        "    print(f\"Valor máximo en la imagen: {np.max(datos_png)}\")\n",
        "    print(f\"Valor mínimo en la imagen: {np.min(datos_png)}\")"
      ],
      "metadata": {
        "id": "41EvICz5er8m"
      },
      "execution_count": null,
      "outputs": []
    },
    {
      "cell_type": "code",
      "source": [
        "print(datos_png)"
      ],
      "metadata": {
        "id": "AlYDPyo7gJgo"
      },
      "execution_count": null,
      "outputs": []
    },
    {
      "cell_type": "code",
      "source": [
        "# Sumar filtros\n",
        "plt.figure(figsize=(9, 9))\n",
        "plt.imshow(datos_png, cmap='Grays',alpha=1.0, vmin=np.percentile(datos_png, 1), vmax=np.percentile(datos_png, 99))\n",
        "plt.imshow(ir_imagen, cmap='Greens', origin='lower',alpha=0.3, vmin=np.percentile(ir_imagen, 40), vmax=np.percentile(ir_imagen, 99))\n",
        "plt.imshow(red_imagen, cmap='Oranges', origin='lower',alpha=0.1, vmin=np.percentile(red_imagen, 1), vmax=np.percentile(red_imagen, 99))\n",
        "plt.colorbar(label='Intensidad')\n",
        "plt.title(f'Imagen FITS  (diferentes dimensiones)')\n",
        "plt.xlabel('Píxeles en X')\n",
        "plt.ylabel('Píxeles en Y')\n",
        "plt.show()"
      ],
      "metadata": {
        "id": "lYqjHqjVfNu_"
      },
      "execution_count": null,
      "outputs": []
    },
    {
      "cell_type": "code",
      "source": [
        "# USANDO ARCHIVOS DE IMAGENES en la CRAB NEBULA"
      ],
      "metadata": {
        "id": "MupnBIzoow-b"
      },
      "execution_count": null,
      "outputs": []
    },
    {
      "cell_type": "code",
      "source": [
        "red_crab = path+'STScI-01EVVBE2DY6HH2H49WT0VEBC85.jpg' #\n",
        "green_crab = path+'STScI-01EVVBD2HMHDWH46WT96MQR8XA.jpg' #\n",
        "greenblue_crab = path+'STScI-01EVVBDBRVWMKBN234SXQ1MEA1.jpg' #\n",
        "blue_crab = path+'STScI-01EVVBDF6H7WT5PZPG9REY0Q39.jpg' #\n",
        "violet_crab = path+'STScI-01EVVBDXTSA7EWBWN777Z9PMHG.jpg' #\n",
        "    # Llama a la función para leer y visualizar la imagen\n",
        "datos_red = leer_imagen_png(red_crab)\n",
        "datos_green = leer_imagen_png(green_crab)\n",
        "datos_greenblue = leer_imagen_png(greenblue_crab)\n",
        "datos_blue = leer_imagen_png(blue_crab)\n",
        "datos_violet = leer_imagen_png(violet_crab)"
      ],
      "metadata": {
        "id": "nvRhNpial6zB"
      },
      "execution_count": null,
      "outputs": []
    },
    {
      "cell_type": "code",
      "source": [
        "plt.figure(figsize=(9, 9))\n",
        "plt.imshow(datos_blue, cmap='Blues',alpha=0.8, vmin=np.percentile(datos_png, 5), vmax=np.percentile(datos_blue, 99))\n",
        "plt.imshow(datos_green, cmap='Greens',alpha=0.7, vmin=np.percentile(datos_green, 10), vmax=np.percentile(datos_green, 99))\n",
        "plt.imshow(datos_greenblue, cmap='Oranges',alpha=0.6, vmin=np.percentile(datos_greenblue, 20), vmax=np.percentile(datos_greenblue, 99))\n",
        "plt.imshow(datos_red, cmap='Reds',alpha=0.5, vmin=np.percentile(datos_red, 30), vmax=np.percentile(datos_red, 99))\n",
        "plt.imshow(datos_violet, cmap='Purples',alpha=0.3, vmin=np.percentile(datos_violet, 40), vmax=np.percentile(datos_violet, 99))\n",
        "#\n",
        "plt.colorbar(label='Intensidad')\n",
        "plt.title(f'Imagen Crab Nebulo - Todos los Filtros')\n",
        "plt.xlabel('Píxeles en X')\n",
        "plt.ylabel('Píxeles en Y')\n",
        "plt.show()"
      ],
      "metadata": {
        "id": "JNpSgGC0nJMu"
      },
      "execution_count": null,
      "outputs": []
    },
    {
      "cell_type": "markdown",
      "source": [
        "**LOS ESPECTROS:**\n",
        "\n",
        "Nos dan una idea de como se distribuye la energía, por longitud de onda, en un un objeto que estamos observando. Gran parte de los objetos astronómicos no tienen incentridumbres en la medición ya que son difíciles de medir"
      ],
      "metadata": {
        "id": "UbFm-q4sMgrL"
      }
    },
    {
      "cell_type": "code",
      "source": [
        "# USANDO DATOS ESPECTRALES\n",
        "# leyendo un archivo de 2 columnas (longitud de onda y flujo)\n",
        "\n",
        "nombre_archivo=path+'PN14.dat'\n",
        "with open(nombre_archivo, 'r') as archivo:\n",
        "        longitud,flux=np.loadtxt(archivo,unpack=True,skiprows=1)\n",
        "        print(\"Contenido del archivo:\")\n"
      ],
      "metadata": {
        "id": "jZkhetOLBg46"
      },
      "execution_count": null,
      "outputs": []
    },
    {
      "cell_type": "code",
      "source": [
        "from logging import makeLogRecord\n",
        "plt.figure(figsize=(12, 7))\n",
        "plt.plot(longitud,flux,marker='o',markersize=4)\n",
        "plt.title(f'Espectro de una nebulosa planetaria')\n",
        "plt.xlabel('Longitud de Onda en Amstrong')\n",
        "plt.ylabel('Flujo')\n",
        "#plt.xlim(4950,5050)\n",
        "plt.show()\n"
      ],
      "metadata": {
        "id": "i4rptvvIRliN"
      },
      "execution_count": null,
      "outputs": []
    },
    {
      "cell_type": "code",
      "source": [
        "# Asignando una incertidumbre, o error con un valor del 10% alrededor con respecto del valor observado en flujo de energía\n",
        "fluxerr=abs(flux)*0.1"
      ],
      "metadata": {
        "id": "ZyYAuVZTPriO"
      },
      "execution_count": null,
      "outputs": []
    },
    {
      "cell_type": "code",
      "source": [
        "plt.figure(figsize=(12, 7))\n",
        "plt.errorbar(longitud, flux, yerr=fluxerr, marker='o', markersize=4, capsize=4, ecolor='red',)\n",
        "plt.title(f'Espectro de una nebulosa planetaria')\n",
        "plt.xlabel('Longitud de Onda en Amstrong')\n",
        "plt.ylabel('Flujo')\n",
        "#plt.xlim(4950,5050)\n",
        "plt.show()\n"
      ],
      "metadata": {
        "id": "ZMmPWT45CfXD"
      },
      "execution_count": null,
      "outputs": []
    },
    {
      "cell_type": "code",
      "source": [
        "# Asignando una incertidumbre, o error con un valor de entre 10 y 20%  con respecto del valor observado en flujo de energía\n",
        "import random\n",
        "numero_aleatorio = random.uniform(0.1,0.2)\n",
        "print(numero_aleatorio)\n",
        "fluxerr=abs(flux)*random.uniform(0.1,0.2)\n",
        "print(fluxerr)"
      ],
      "metadata": {
        "id": "gh4XpQSeUszU"
      },
      "execution_count": null,
      "outputs": []
    },
    {
      "cell_type": "code",
      "source": [
        "plt.figure(figsize=(12, 7))\n",
        "plt.errorbar(longitud, flux, yerr=fluxerr, marker='o', markersize=4, capsize=4, ecolor='red',)\n",
        "plt.title(f'Espectro de una nebulosa planetaria')\n",
        "plt.xlabel('Longitud de Onda en Amstrong')\n",
        "plt.ylabel('Flujo')\n",
        "plt.xlim(4950,5050)\n",
        "plt.show()"
      ],
      "metadata": {
        "id": "SMLq_PrPV7zj"
      },
      "execution_count": null,
      "outputs": []
    },
    {
      "cell_type": "markdown",
      "source": [
        "**Librerías clave para astronomía en Python:**\n",
        "\n",
        "**Astropy:**\n",
        "\n",
        "Un paquete central para la comunidad astronómica, que proporciona clases y funciones comunes para astronomía y astrofísica, como manejo de fechas, coordenadas, unidades, y lectura de archivos FITS.\n",
        "\n",
        "**NumPy:**\n",
        "\n",
        "Proporciona soporte para arrays multidimensionales y funciones matemáticas para trabajar con ellos, fundamental para el análisis numérico en astronomía.\n",
        "\n",
        "**SciPy:**\n",
        "\n",
        "Construida sobre NumPy, ofrece una amplia gama de funciones científicas, incluyendo algoritmos numéricos, optimización, interpolación, y más.\n",
        "\n",
        "**Matplotlib:**\n",
        "\n",
        "Una librería para crear visualizaciones estáticas, animadas e interactivas, esencial para la representación gráfica de datos astronómicos.\n",
        "\n",
        "**AstroML:**\n",
        "\n",
        "Ofrece herramientas para aprendizaje automático y minería de datos, especialmente útil para analizar grandes conjuntos de datos astronómicos.\n",
        "\n",
        "**PyEphem:**\n",
        "\n",
        "Calcula posiciones de objetos astronómicos, útil para modelado y simulaciones.\n",
        "\n",
        "**pandas:**\n",
        "\n",
        "Para el análisis de datos tabulares, útil para trabajar con catálogos y conjuntos de datos astronómicos.\n",
        "\n",
        "**Scikit-image:**\n",
        "\n",
        "Para procesamiento de imágenes, incluyendo imágenes astronómicas."
      ],
      "metadata": {
        "id": "gH67oQ1gd8yu"
      }
    },
    {
      "cell_type": "markdown",
      "source": [
        "**AstroPy**\n",
        "\n",
        "https://research.iac.es/sieinvens/python-course/astropy.html"
      ],
      "metadata": {
        "id": "2sBIHJGlejJI"
      }
    },
    {
      "cell_type": "code",
      "source": [
        "from astropy import constants as const\n",
        "from astropy import units as u\n",
        "\n",
        "# Obtener el valor de la velocidad de la luz\n",
        "velocidad_luz = const.c\n",
        "print(f\"Velocidad de la luz: {velocidad_luz}\")\n",
        "\n",
        "# Obtener la masa del Sol\n",
        "masa_sol = const.M_sun\n",
        "print(f\"Masa del Sol: {masa_sol}\")\n",
        "\n",
        "# Obtener la constante gravitacional\n",
        "G = const.G\n",
        "print(f\"Constante gravitacional: {G}\")\n",
        "\n",
        "# Realizar cálculos con las constantes\n",
        "# Por ejemplo, calcular la masa de Júpiter en función de su radio y gravedad\n",
        "masa_jupiter = (const.GM_jup * const.R_jup**2) / const.G\n",
        "print(f\"Masa de Júpiter: {masa_jupiter}\")\n",
        "\n",
        "# Imprimir el valor de la constante en unidades específicas\n",
        "print(f\"Velocidad de la luz en km/s: {velocidad_luz.to(u.km/u.s)}\")\n",
        "\n",
        "# Imprimir el valor de la constante en unidades específicas (ejemplo: años luz)\n",
        "print(f\"Distancia de 1 parsec en años luz: {1*u.pc.to(u.lyr)} ly\")"
      ],
      "metadata": {
        "id": "hn4_NptNd8Uy"
      },
      "execution_count": null,
      "outputs": []
    },
    {
      "cell_type": "code",
      "source": [
        "#EJEMPLO QUE VIENE EN ASTROPY Y CREANDO FUCIONES\n",
        "from astropy.modeling import models, fitting\n",
        "\n",
        "# Modelo con parámetros iniciales\n",
        "g_init = models.Gaussian1D(amplitude=10, mean=0.5, stddev=0.2)\n",
        "print(g_init)\n",
        "!\n",
        "# creamos una distribucion normal con ruido\n",
        "y = gauss1d(x) + np.random.randn(len(x))*.4\n",
        "\n",
        "# Ahora creamos una instancia de un ajustador\n",
        "fitter = fitting.LevMarLSQFitter()\n",
        "\n",
        "x = np.linspace(-50, 50, 100)\n",
        "modelo = fitter(g_init, x, y)\n",
        "print(modelo)\n",
        "\n",
        "plt.plot(x, y, 'og', label='Datos')    # datos\n",
        "plt.plot(x, modelo(x), 'r-', label='Modelo') # modelo\n",
        "plt.legend()\n"
      ],
      "metadata": {
        "id": "hru07F6RfSLU"
      },
      "execution_count": null,
      "outputs": []
    }
  ]
}